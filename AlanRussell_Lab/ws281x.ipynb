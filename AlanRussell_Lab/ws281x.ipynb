{
 "cells": [
  {
   "cell_type": "markdown",
   "id": "86cd0051-bb95-4bfc-aeff-d4fb9daaef71",
   "metadata": {},
   "source": [
    "# 驱动彩光灯带\n",
    "参考:\n",
    "\n",
    "* [SP105E](https://github.com/plaguemorin/SP105E)\n",
    "* [rpi_ws281x](https://github.com/jgarff/rpi_ws281x)\n",
    "    * https://learn.adafruit.com/neopixels-on-raspberry-pi/python-usage\n",
    "    * https://pinout.xyz/pinout/pin19_gpio10\n",
    "* [SP108E-Controller](https://github.com/Cipulot/SP108E-Controller)\n",
    "\n",
    "本文使用 SP108E 驱动 ws2812 灯带.\n",
    "\n",
    "SP108E 需要先使用安卓手机配网，优点是无线连接\n",
    "\n",
    "如果使用[rpi_ws281x](https://github.com/jgarff/rpi_ws281x)，则直接使用树莓派驱动灯带, 需要sudo。"
   ]
  },
  {
   "cell_type": "code",
   "execution_count": null,
   "id": "d24e5923-03cf-4f4c-8038-1c02a6568300",
   "metadata": {},
   "outputs": [],
   "source": [
    "# 参考 https://github.com/plaguemorin/SP105E/blob/master/main.py\n",
    "\n",
    "import math\n",
    "import time\n",
    "from SP105E import controller_api\n",
    "from SP105E import strip\n",
    "\n",
    "controller = controller_api.SP180E(\"192.168.31.98\", debug=False)\n",
    "number_of_leds = 60"
   ]
  },
  {
   "cell_type": "code",
   "execution_count": null,
   "id": "be5559de-d0dd-4b6f-b8ff-ea963b4a2543",
   "metadata": {},
   "outputs": [
    {
     "ename": "IndexError",
     "evalue": "string index out of range",
     "output_type": "error",
     "traceback": [
      "\u001b[0;31m---------------------------------------------------------------------------\u001b[0m",
      "\u001b[0;31mIndexError\u001b[0m                                Traceback (most recent call last)",
      "\u001b[0;32m/tmp/ipykernel_5787/640300685.py\u001b[0m in \u001b[0;36m<module>\u001b[0;34m\u001b[0m\n\u001b[1;32m     10\u001b[0m \u001b[0mcontroller\u001b[0m\u001b[0;34m.\u001b[0m\u001b[0mset_pattern\u001b[0m\u001b[0;34m(\u001b[0m\u001b[0;34m'WAVE'\u001b[0m\u001b[0;34m)\u001b[0m\u001b[0;34m\u001b[0m\u001b[0;34m\u001b[0m\u001b[0m\n\u001b[1;32m     11\u001b[0m \u001b[0;34m\u001b[0m\u001b[0m\n\u001b[0;32m---> 12\u001b[0;31m \u001b[0mvalues\u001b[0m \u001b[0;34m=\u001b[0m \u001b[0mcontroller\u001b[0m\u001b[0;34m.\u001b[0m\u001b[0msync\u001b[0m\u001b[0;34m(\u001b[0m\u001b[0;34m)\u001b[0m\u001b[0;34m\u001b[0m\u001b[0;34m\u001b[0m\u001b[0m\n\u001b[0m\u001b[1;32m     13\u001b[0m \u001b[0mprint\u001b[0m\u001b[0;34m(\u001b[0m\u001b[0mvalues\u001b[0m\u001b[0;34m)\u001b[0m\u001b[0;34m\u001b[0m\u001b[0;34m\u001b[0m\u001b[0m\n\u001b[1;32m     14\u001b[0m \u001b[0;34m\u001b[0m\u001b[0m\n",
      "\u001b[0;32m~/Public_RPI_PBL/AlanRussell_Lab/SP105E/controller_api.py\u001b[0m in \u001b[0;36msync\u001b[0;34m(self)\u001b[0m\n\u001b[1;32m    235\u001b[0m         \u001b[0mdata\u001b[0m \u001b[0;34m=\u001b[0m \u001b[0mself\u001b[0m\u001b[0;34m.\u001b[0m\u001b[0m_send_and_recv\u001b[0m\u001b[0;34m(\u001b[0m\u001b[0mCMD_SYNC\u001b[0m\u001b[0;34m)\u001b[0m\u001b[0;34m\u001b[0m\u001b[0;34m\u001b[0m\u001b[0m\n\u001b[1;32m    236\u001b[0m \u001b[0;34m\u001b[0m\u001b[0m\n\u001b[0;32m--> 237\u001b[0;31m         \u001b[0mis_valid\u001b[0m \u001b[0;34m=\u001b[0m \u001b[0mdata\u001b[0m\u001b[0;34m[\u001b[0m\u001b[0;36m0\u001b[0m\u001b[0;34m]\u001b[0m \u001b[0;34m==\u001b[0m \u001b[0;36m0x38\u001b[0m\u001b[0;34m\u001b[0m\u001b[0;34m\u001b[0m\u001b[0m\n\u001b[0m\u001b[1;32m    238\u001b[0m         \u001b[0mleds_per_segment\u001b[0m \u001b[0;34m=\u001b[0m \u001b[0mdata\u001b[0m\u001b[0;34m[\u001b[0m\u001b[0;36m7\u001b[0m\u001b[0;34m]\u001b[0m \u001b[0;34m+\u001b[0m \u001b[0;34m(\u001b[0m\u001b[0mdata\u001b[0m\u001b[0;34m[\u001b[0m\u001b[0;36m6\u001b[0m\u001b[0;34m]\u001b[0m \u001b[0;34m<<\u001b[0m \u001b[0;36m8\u001b[0m\u001b[0;34m)\u001b[0m\u001b[0;34m\u001b[0m\u001b[0;34m\u001b[0m\u001b[0m\n\u001b[1;32m    239\u001b[0m         \u001b[0msegment_count\u001b[0m \u001b[0;34m=\u001b[0m \u001b[0mdata\u001b[0m\u001b[0;34m[\u001b[0m\u001b[0;36m9\u001b[0m\u001b[0;34m]\u001b[0m \u001b[0;34m+\u001b[0m \u001b[0;34m(\u001b[0m\u001b[0mdata\u001b[0m\u001b[0;34m[\u001b[0m\u001b[0;36m8\u001b[0m\u001b[0;34m]\u001b[0m \u001b[0;34m<<\u001b[0m \u001b[0;36m8\u001b[0m\u001b[0;34m)\u001b[0m\u001b[0;34m\u001b[0m\u001b[0;34m\u001b[0m\u001b[0m\n",
      "\u001b[0;31mIndexError\u001b[0m: string index out of range"
     ]
    }
   ],
   "source": [
    "controller.set_ic_model('WS2811') # SK6812_RGBW WS2811\n",
    "controller.set_color_order('GRB')\n",
    "# controller.set_number_of_leds(2, 150)\n",
    "controller.set_number_of_leds(1, number_of_leds)\n",
    "\n",
    "controller.change_white_brightness(255) # 63\n",
    "controller.change_color_brightness(255) # 63\n",
    "controller.set_speed(255)\n",
    "controller.set_color(0, 0, 0)\n",
    "controller.set_pattern('WAVE')\n",
    "\n",
    "values = controller.sync()\n",
    "print(values)\n",
    "\n",
    "if not values['power']:\n",
    "    controller.toggle_on_off()\n",
    "\n",
    "s = strip.Strip(values['leds_per_segment'], scale=1)"
   ]
  },
  {
   "cell_type": "code",
   "execution_count": null,
   "id": "eee7ee77-a400-4a4d-8af8-c0634da6af8a",
   "metadata": {},
   "outputs": [
    {
     "ename": "NameError",
     "evalue": "name 'values' is not defined",
     "output_type": "error",
     "traceback": [
      "\u001b[0;31m---------------------------------------------------------------------------\u001b[0m",
      "\u001b[0;31mNameError\u001b[0m                                 Traceback (most recent call last)",
      "\u001b[0;32m/tmp/ipykernel_5448/119013790.py\u001b[0m in \u001b[0;36m<module>\u001b[0;34m\u001b[0m\n\u001b[0;32m----> 1\u001b[0;31m \u001b[0mvalues\u001b[0m\u001b[0;34m[\u001b[0m\u001b[0;34m'power'\u001b[0m\u001b[0;34m]\u001b[0m\u001b[0;34m\u001b[0m\u001b[0;34m\u001b[0m\u001b[0m\n\u001b[0m",
      "\u001b[0;31mNameError\u001b[0m: name 'values' is not defined"
     ]
    }
   ],
   "source": [
    "values['power']"
   ]
  },
  {
   "cell_type": "code",
   "execution_count": null,
   "id": "da13d9ec-611e-44cf-bb5c-3a9b0e4d83af",
   "metadata": {},
   "outputs": [],
   "source": [
    "controller.set_pattern('WAVE')\n",
    "controller.set_color(100, 100, 0)\n",
    "controller.set_speed(240)\n",
    "time.sleep(1)\n",
    "controller.set_color(0, 0, 0)\n",
    "controller.set_pattern('STATIC')"
   ]
  },
  {
   "cell_type": "code",
   "execution_count": null,
   "id": "2c29377b-8992-4641-a4c3-a1a06c30bdac",
   "metadata": {},
   "outputs": [],
   "source": [
    "controller.set_preloaded_animation(23) # 快速卡射 # 超过会挂掉\n",
    "time.sleep(1)\n",
    "controller.set_color(0, 0, 0)"
   ]
  },
  {
   "cell_type": "code",
   "execution_count": null,
   "id": "2325037c-b065-4c31-abc3-a25e297b9e53",
   "metadata": {},
   "outputs": [
    {
     "data": {
      "text/plain": [
       "1"
      ]
     },
     "execution_count": 103,
     "metadata": {},
     "output_type": "execute_result"
    }
   ],
   "source": [
    "0x01"
   ]
  },
  {
   "cell_type": "code",
   "execution_count": null,
   "id": "46446ae7-9b00-4dc2-b6eb-8b9a65ba474d",
   "metadata": {},
   "outputs": [],
   "source": [
    "# controller.set_preloaded_animation(0)\n",
    "controller.set_preloaded_animation(3)\n"
   ]
  },
  {
   "cell_type": "code",
   "execution_count": null,
   "id": "396b9c50-e2ed-46c0-9c96-ae3a474f98b7",
   "metadata": {},
   "outputs": [
    {
     "name": "stdout",
     "output_type": "stream",
     "text": [
      "Demo 1...\n"
     ]
    }
   ],
   "source": [
    "\n",
    "print(\"Demo 1...\")\n",
    "for pixel in range(0, values['leds_per_segment']):\n",
    "    # print(\" Pixel %d\" % pixel)\n",
    "\n",
    "    s.reset(0, 0, 0)\n",
    "    s.set_led_color(pixel - 3, 32, 0, 0)\n",
    "    s.set_led_color(pixel - 2, 0, 64, 0)\n",
    "    s.set_led_color(pixel - 1, 0, 0, 128)\n",
    "    s.set_led_color(pixel + 0, 255, 0, 0)\n",
    "    s.set_led_color(pixel + 1, 0, 128, 128)\n",
    "    s.set_led_color(pixel + 2, 0, 64, 64)\n",
    "    s.set_led_color(pixel + 3, 0, 32, 0)\n",
    "    # Send it more than once to control speed (yeah bad way)\n",
    "    # but the controller will reset to a color if you don't send\n",
    "    # it data periodically\n",
    "    controller.send_pixel_values(s.frame())"
   ]
  },
  {
   "cell_type": "code",
   "execution_count": null,
   "id": "09df1341-d92d-436c-8800-ef8284982702",
   "metadata": {},
   "outputs": [],
   "source": [
    "for pulse in range(0, 128): # 512\n",
    "    for num in range(0, number_of_leds):\n",
    "        if num % 2 == 0:\n",
    "            s.set_led_color(num, int(math.sin(pulse/10) * 255), int(math.cos(pulse/10) * 255), 0)\n",
    "        else:\n",
    "            s.set_led_color(num, 0, int(math.sin(pulse/10) * 255), int(math.cos(pulse/10) * 255))\n",
    "    controller.send_pixel_values(s.frame())\n",
    "    controller.send_pixel_values(s.frame())"
   ]
  },
  {
   "cell_type": "code",
   "execution_count": null,
   "id": "059e1a7c-6444-4efa-a947-2e86ccb5f91d",
   "metadata": {},
   "outputs": [
    {
     "name": "stdout",
     "output_type": "stream",
     "text": [
      "{'valid': True, 'power': True, 'pattern': 209, 'pattern_name': 'WAVE', 'speed': 255, 'brightness': 255, 'output_color_order': 'GRB', 'leds_per_segment': 60, 'segment_count': 1, 'total_leds': 60, 'current_color_r': 0, 'current_color_g': 0, 'current_color_b': 0, 'output_ic_model': 'WS2811', 'recorded_patterns': 0, 'white_channel_brightness': 254}\n",
      "Demo 1...\n",
      "Demo 2...\n"
     ]
    },
    {
     "ename": "KeyboardInterrupt",
     "evalue": "",
     "output_type": "error",
     "traceback": [
      "\u001b[0;31m---------------------------------------------------------------------------\u001b[0m",
      "\u001b[0;31mKeyboardInterrupt\u001b[0m                         Traceback (most recent call last)",
      "\u001b[0;32m/tmp/ipykernel_4413/3546423498.py\u001b[0m in \u001b[0;36m<module>\u001b[0;34m\u001b[0m\n\u001b[1;32m     47\u001b[0m             \u001b[0ms\u001b[0m\u001b[0;34m.\u001b[0m\u001b[0mset_led_color\u001b[0m\u001b[0;34m(\u001b[0m\u001b[0mnum\u001b[0m\u001b[0;34m,\u001b[0m \u001b[0;36m0\u001b[0m\u001b[0;34m,\u001b[0m \u001b[0mint\u001b[0m\u001b[0;34m(\u001b[0m\u001b[0mmath\u001b[0m\u001b[0;34m.\u001b[0m\u001b[0msin\u001b[0m\u001b[0;34m(\u001b[0m\u001b[0mpulse\u001b[0m\u001b[0;34m/\u001b[0m\u001b[0;36m10\u001b[0m\u001b[0;34m)\u001b[0m \u001b[0;34m*\u001b[0m \u001b[0;36m255\u001b[0m\u001b[0;34m)\u001b[0m\u001b[0;34m,\u001b[0m \u001b[0mint\u001b[0m\u001b[0;34m(\u001b[0m\u001b[0mmath\u001b[0m\u001b[0;34m.\u001b[0m\u001b[0mcos\u001b[0m\u001b[0;34m(\u001b[0m\u001b[0mpulse\u001b[0m\u001b[0;34m/\u001b[0m\u001b[0;36m10\u001b[0m\u001b[0;34m)\u001b[0m \u001b[0;34m*\u001b[0m \u001b[0;36m255\u001b[0m\u001b[0;34m)\u001b[0m\u001b[0;34m)\u001b[0m\u001b[0;34m\u001b[0m\u001b[0;34m\u001b[0m\u001b[0m\n\u001b[1;32m     48\u001b[0m     \u001b[0mcontroller\u001b[0m\u001b[0;34m.\u001b[0m\u001b[0msend_pixel_values\u001b[0m\u001b[0;34m(\u001b[0m\u001b[0ms\u001b[0m\u001b[0;34m.\u001b[0m\u001b[0mframe\u001b[0m\u001b[0;34m(\u001b[0m\u001b[0;34m)\u001b[0m\u001b[0;34m)\u001b[0m\u001b[0;34m\u001b[0m\u001b[0;34m\u001b[0m\u001b[0m\n\u001b[0;32m---> 49\u001b[0;31m     \u001b[0mcontroller\u001b[0m\u001b[0;34m.\u001b[0m\u001b[0msend_pixel_values\u001b[0m\u001b[0;34m(\u001b[0m\u001b[0ms\u001b[0m\u001b[0;34m.\u001b[0m\u001b[0mframe\u001b[0m\u001b[0;34m(\u001b[0m\u001b[0;34m)\u001b[0m\u001b[0;34m)\u001b[0m\u001b[0;34m\u001b[0m\u001b[0;34m\u001b[0m\u001b[0m\n\u001b[0m\u001b[1;32m     50\u001b[0m \u001b[0;34m\u001b[0m\u001b[0m\n\u001b[1;32m     51\u001b[0m \u001b[0;34m\u001b[0m\u001b[0m\n",
      "\u001b[0;32m~/Public_RPI_PBL/AlanRussell_Lab/SP105E/controller_api.py\u001b[0m in \u001b[0;36msend_pixel_values\u001b[0;34m(self, values)\u001b[0m\n\u001b[1;32m    313\u001b[0m         \u001b[0;31m# it look ok\u001b[0m\u001b[0;34m\u001b[0m\u001b[0;34m\u001b[0m\u001b[0;34m\u001b[0m\u001b[0m\n\u001b[1;32m    314\u001b[0m \u001b[0;34m\u001b[0m\u001b[0m\n\u001b[0;32m--> 315\u001b[0;31m         \u001b[0mself\u001b[0m\u001b[0;34m.\u001b[0m\u001b[0m_send_and_recv_persistent\u001b[0m\u001b[0;34m(\u001b[0m\u001b[0mCMD_CUSTOM_PREVIEW\u001b[0m\u001b[0;34m,\u001b[0m \u001b[0mbytes\u001b[0m\u001b[0;34m(\u001b[0m\u001b[0;34m[\u001b[0m\u001b[0;36m0xE9\u001b[0m\u001b[0;34m,\u001b[0m \u001b[0;36m0x39\u001b[0m\u001b[0;34m,\u001b[0m \u001b[0;36m0x9A\u001b[0m\u001b[0;34m]\u001b[0m\u001b[0;34m)\u001b[0m\u001b[0;34m,\u001b[0m \u001b[0mvalues\u001b[0m\u001b[0;34m)\u001b[0m\u001b[0;34m\u001b[0m\u001b[0;34m\u001b[0m\u001b[0m\n\u001b[0m",
      "\u001b[0;32m~/Public_RPI_PBL/AlanRussell_Lab/SP105E/controller_api.py\u001b[0m in \u001b[0;36m_send_and_recv_persistent\u001b[0;34m(self, cmd, data, extra_data, delay, timeout)\u001b[0m\n\u001b[1;32m    197\u001b[0m         \u001b[0;32mif\u001b[0m \u001b[0mextra_data\u001b[0m\u001b[0;34m:\u001b[0m\u001b[0;34m\u001b[0m\u001b[0;34m\u001b[0m\u001b[0m\n\u001b[1;32m    198\u001b[0m             \u001b[0mself\u001b[0m\u001b[0;34m.\u001b[0m\u001b[0m_s\u001b[0m\u001b[0;34m.\u001b[0m\u001b[0mwait_send\u001b[0m\u001b[0;34m(\u001b[0m\u001b[0mextra_data\u001b[0m\u001b[0;34m,\u001b[0m \u001b[0mdelay\u001b[0m\u001b[0;34m)\u001b[0m\u001b[0;34m\u001b[0m\u001b[0;34m\u001b[0m\u001b[0m\n\u001b[0;32m--> 199\u001b[0;31m             \u001b[0mrecv\u001b[0m \u001b[0;34m=\u001b[0m \u001b[0mself\u001b[0m\u001b[0;34m.\u001b[0m\u001b[0m_s\u001b[0m\u001b[0;34m.\u001b[0m\u001b[0mwait_recv\u001b[0m\u001b[0;34m(\u001b[0m\u001b[0mtimeout\u001b[0m\u001b[0;34m)\u001b[0m\u001b[0;34m\u001b[0m\u001b[0;34m\u001b[0m\u001b[0m\n\u001b[0m\u001b[1;32m    200\u001b[0m         \u001b[0;32mreturn\u001b[0m \u001b[0mrecv\u001b[0m\u001b[0;34m\u001b[0m\u001b[0;34m\u001b[0m\u001b[0m\n\u001b[1;32m    201\u001b[0m \u001b[0;34m\u001b[0m\u001b[0m\n",
      "\u001b[0;32m~/Public_RPI_PBL/AlanRussell_Lab/SP105E/controller_api.py\u001b[0m in \u001b[0;36mwait_recv\u001b[0;34m(self, timeout)\u001b[0m\n\u001b[1;32m    124\u001b[0m     \u001b[0;32mdef\u001b[0m \u001b[0mwait_recv\u001b[0m\u001b[0;34m(\u001b[0m\u001b[0mself\u001b[0m\u001b[0;34m,\u001b[0m \u001b[0mtimeout\u001b[0m\u001b[0;34m:\u001b[0m \u001b[0mfloat\u001b[0m \u001b[0;34m=\u001b[0m \u001b[0;36m1.0\u001b[0m\u001b[0;34m)\u001b[0m\u001b[0;34m:\u001b[0m\u001b[0;34m\u001b[0m\u001b[0;34m\u001b[0m\u001b[0m\n\u001b[1;32m    125\u001b[0m         \u001b[0mself\u001b[0m\u001b[0;34m.\u001b[0m\u001b[0m_s\u001b[0m\u001b[0;34m.\u001b[0m\u001b[0msetblocking\u001b[0m\u001b[0;34m(\u001b[0m\u001b[0;32mFalse\u001b[0m\u001b[0;34m)\u001b[0m\u001b[0;34m\u001b[0m\u001b[0;34m\u001b[0m\u001b[0m\n\u001b[0;32m--> 126\u001b[0;31m         \u001b[0mready\u001b[0m \u001b[0;34m=\u001b[0m \u001b[0mselect\u001b[0m\u001b[0;34m.\u001b[0m\u001b[0mselect\u001b[0m\u001b[0;34m(\u001b[0m\u001b[0;34m[\u001b[0m\u001b[0mself\u001b[0m\u001b[0;34m.\u001b[0m\u001b[0m_s\u001b[0m\u001b[0;34m]\u001b[0m\u001b[0;34m,\u001b[0m \u001b[0;34m[\u001b[0m\u001b[0;34m]\u001b[0m\u001b[0;34m,\u001b[0m \u001b[0;34m[\u001b[0m\u001b[0;34m]\u001b[0m\u001b[0;34m,\u001b[0m \u001b[0mtimeout\u001b[0m\u001b[0;34m)\u001b[0m\u001b[0;34m\u001b[0m\u001b[0;34m\u001b[0m\u001b[0m\n\u001b[0m\u001b[1;32m    127\u001b[0m         \u001b[0;32mif\u001b[0m \u001b[0mready\u001b[0m\u001b[0;34m[\u001b[0m\u001b[0;36m0\u001b[0m\u001b[0;34m]\u001b[0m\u001b[0;34m:\u001b[0m\u001b[0;34m\u001b[0m\u001b[0;34m\u001b[0m\u001b[0m\n\u001b[1;32m    128\u001b[0m             \u001b[0minner_recv\u001b[0m \u001b[0;34m=\u001b[0m \u001b[0mself\u001b[0m\u001b[0;34m.\u001b[0m\u001b[0m_s\u001b[0m\u001b[0;34m.\u001b[0m\u001b[0mrecv\u001b[0m\u001b[0;34m(\u001b[0m\u001b[0;36m4096\u001b[0m\u001b[0;34m)\u001b[0m\u001b[0;34m\u001b[0m\u001b[0;34m\u001b[0m\u001b[0m\n",
      "\u001b[0;31mKeyboardInterrupt\u001b[0m: "
     ]
    }
   ],
   "source": [
    "controller.set_ic_model('WS2811') # SK6812_RGBW WS2811\n",
    "controller.set_color_order('GRB')\n",
    "# controller.set_number_of_leds(2, 150)\n",
    "controller.set_number_of_leds(1, number_of_leds)\n",
    "\n",
    "controller.change_white_brightness(255) # 63\n",
    "controller.change_color_brightness(255) # 63\n",
    "controller.set_speed(255)\n",
    "controller.set_color(0, 0, 0)\n",
    "controller.set_pattern('WAVE')\n",
    "\n",
    "values = controller.sync()\n",
    "print(values)\n",
    "\n",
    "if not values['power']:\n",
    "    controller.toggle_on_off()\n",
    "\n",
    "s = strip.Strip(values['leds_per_segment'], scale=1)\n",
    "\n",
    "print(\"Demo 1...\")\n",
    "for pixel in range(0, values['leds_per_segment']):\n",
    "    # print(\" Pixel %d\" % pixel)\n",
    "\n",
    "    s.reset(0, 0, 0)\n",
    "    s.set_led_color(pixel - 3, 32, 0, 0)\n",
    "    s.set_led_color(pixel - 2, 0, 64, 0)\n",
    "    s.set_led_color(pixel - 1, 0, 0, 128)\n",
    "    s.set_led_color(pixel + 0, 255, 0, 0)\n",
    "    s.set_led_color(pixel + 1, 0, 128, 128)\n",
    "    s.set_led_color(pixel + 2, 0, 64, 64)\n",
    "    s.set_led_color(pixel + 3, 0, 32, 0)\n",
    "\n",
    "    # Send it more than once to control speed (yeah bad way)\n",
    "    # but the controller will reset to a color if you don't send\n",
    "    # it data periodically\n",
    "    controller.send_pixel_values(s.frame())\n",
    "\n",
    "# raise\n",
    "    \n",
    "print(\"Demo 2...\")\n",
    "s.reset()\n",
    "for pulse in range(0, 512):\n",
    "    for num in range(0, number_of_leds):\n",
    "        if num % 2 == 0:\n",
    "            s.set_led_color(num, int(math.sin(pulse/10) * 255), int(math.cos(pulse/10) * 255), 0)\n",
    "        else:\n",
    "            s.set_led_color(num, 0, int(math.sin(pulse/10) * 255), int(math.cos(pulse/10) * 255))\n",
    "    controller.send_pixel_values(s.frame())\n",
    "    controller.send_pixel_values(s.frame())\n",
    "\n",
    "\n",
    "print(\"Demo 3...\")\n",
    "if True:\n",
    "    # controller.change_color_brightness(2)\n",
    "    # controller.change_white_brightness(1)\n",
    "\n",
    "    print(\"Changing color bright\")\n",
    "    for bright in range(1, 254):\n",
    "        s.reset(bright, 255 - bright, bright)\n",
    "        controller.send_pixel_values(s.frame())\n",
    "\n",
    "    print(\"Changing white bright\")\n",
    "    for bright in range(1, 254):\n",
    "        controller.change_white_brightness(bright)\n",
    "\n",
    "    print(\"Changing both bright\")\n",
    "    for bright in range(1, 254):\n",
    "        s.reset(bright, bright, bright)\n",
    "        controller.send_pixel_values(s.frame())\n",
    "print(\"end\")"
   ]
  },
  {
   "cell_type": "code",
   "execution_count": null,
   "id": "29fec245-7444-4f86-b7d7-1514d49366f4",
   "metadata": {},
   "outputs": [],
   "source": []
  }
 ],
 "metadata": {
  "kernelspec": {
   "display_name": "",
   "name": ""
  },
  "language_info": {
   "name": ""
  }
 },
 "nbformat": 4,
 "nbformat_minor": 5
}
