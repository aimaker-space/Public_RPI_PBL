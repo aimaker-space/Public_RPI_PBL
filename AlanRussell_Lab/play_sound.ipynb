{
 "cells": [
  {
   "cell_type": "markdown",
   "id": "5aeea9b0-5281-47a1-b903-a84f3a9b530c",
   "metadata": {},
   "source": [
    "# 配置\n",
    "* sudo apt-get install git curl libsdl2-mixer-2.0-0 libsdl2-image-2.0-0 libsdl2-2.0-0\n",
    "* 右键桌面右上角喇叭，选择输出"
   ]
  },
  {
   "cell_type": "code",
   "execution_count": 1,
   "id": "1c1ff22d-3bc4-4ea1-9b1c-2a25d2eb9655",
   "metadata": {},
   "outputs": [
    {
     "name": "stdout",
     "output_type": "stream",
     "text": [
      "pygame 2.0.1 (SDL 2.0.9, Python 3.7.3)\n",
      "Hello from the pygame community. https://www.pygame.org/contribute.html\n"
     ]
    }
   ],
   "source": [
    "# 声音\n",
    "import pygame\n",
    "pygame.mixer.init()\n",
    "rip = pygame.mixer.Sound('/home/pi/Downloads/Rip16.wav')\n",
    "meow = pygame.mixer.Sound('/home/pi/Downloads/meow.wav')"
   ]
  },
  {
   "cell_type": "code",
   "execution_count": 2,
   "id": "458174bf-d870-423f-81dc-2ccdec897576",
   "metadata": {},
   "outputs": [
    {
     "data": {
      "text/plain": [
       "<Channel at 0xb47e9890>"
      ]
     },
     "execution_count": 2,
     "metadata": {},
     "output_type": "execute_result"
    }
   ],
   "source": [
    "rip.play()"
   ]
  }
 ],
 "metadata": {
  "kernelspec": {
   "display_name": "Python 3 (ipykernel)",
   "language": "python",
   "name": "python3"
  },
  "language_info": {
   "codemirror_mode": {
    "name": "ipython",
    "version": 3
   },
   "file_extension": ".py",
   "mimetype": "text/x-python",
   "name": "python",
   "nbconvert_exporter": "python",
   "pygments_lexer": "ipython3",
   "version": "3.7.3"
  }
 },
 "nbformat": 4,
 "nbformat_minor": 5
}
