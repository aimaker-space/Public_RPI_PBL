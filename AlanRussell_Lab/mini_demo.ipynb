{
 "cells": [
  {
   "cell_type": "code",
   "execution_count": null,
   "id": "647475d8-0049-4f64-94f7-a16648f90e11",
   "metadata": {},
   "outputs": [
    {
     "name": "stdout",
     "output_type": "stream",
     "text": [
      "Connecting to hello world server…\n"
     ]
    },
    {
     "data": {
      "text/plain": [
       "<contextlib._GeneratorContextManager at 0x8b9957b0>"
      ]
     },
     "execution_count": 35,
     "metadata": {},
     "output_type": "execute_result"
    }
   ],
   "source": [
    "import zmq\n",
    "import subprocess\n",
    "import pygame\n",
    "import time\n",
    "\n",
    "pygame.mixer.init()\n",
    "play_rip_wav = pygame.mixer.Sound('/home/pi/Downloads/Rip16.wav')\n",
    "\n",
    "context = zmq.Context()\n",
    "\n",
    "#  Socket to talk to server\n",
    "print(\"Connecting to hello world server…\")\n",
    "socket_neopixel = context.socket(zmq.REQ)\n",
    "socket_neopixel.connect(\"tcp://localhost:5555\")"
   ]
  },
  {
   "cell_type": "code",
   "execution_count": null,
   "id": "36dc1a1c-01ce-483b-80b2-abea3f3954b6",
   "metadata": {},
   "outputs": [],
   "source": [
    "#  Do 10 requests, waiting each time for a response\n",
    "# 如果使用jack 本地音响就会出错， 使用蓝牙音响，或者 HDMI\n",
    "# time.sleep(0.5)\n",
    "def rip():\n",
    "    play_rip_wav.play()\n",
    "    time.sleep(0.5)\n",
    "    socket_neopixel.send(b\"rip\")\n",
    "    message = socket_neopixel.recv()"
   ]
  },
  {
   "cell_type": "code",
   "execution_count": null,
   "id": "03210b6b-5e96-4e63-b033-fd38a765ea25",
   "metadata": {},
   "outputs": [],
   "source": [
    "rip()"
   ]
  },
  {
   "cell_type": "code",
   "execution_count": null,
   "id": "a66cc271-cba4-4be2-b228-f4e6dfc418a7",
   "metadata": {},
   "outputs": [],
   "source": []
  },
  {
   "cell_type": "code",
   "execution_count": null,
   "id": "26ce4bea-a22b-42ca-aa4a-0d8925dc8ad0",
   "metadata": {},
   "outputs": [],
   "source": []
  },
  {
   "cell_type": "code",
   "execution_count": null,
   "id": "1969f9ec-be74-4885-84af-1b9657fd7745",
   "metadata": {},
   "outputs": [],
   "source": []
  }
 ],
 "metadata": {
  "kernelspec": {
   "display_name": "Python 3 (ipykernel)",
   "language": "python",
   "name": "python3"
  },
  "language_info": {
   "codemirror_mode": {
    "name": "ipython",
    "version": 3
   },
   "file_extension": ".py",
   "mimetype": "text/x-python",
   "name": "python",
   "nbconvert_exporter": "python",
   "pygments_lexer": "ipython3",
   "version": "3.7.3"
  }
 },
 "nbformat": 4,
 "nbformat_minor": 5
}
