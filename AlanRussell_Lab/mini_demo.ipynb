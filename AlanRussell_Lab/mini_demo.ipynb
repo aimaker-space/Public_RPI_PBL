{
 "cells": [
  {
   "cell_type": "code",
   "execution_count": 1,
   "id": "647475d8-0049-4f64-94f7-a16648f90e11",
   "metadata": {},
   "outputs": [
    {
     "name": "stdout",
     "output_type": "stream",
     "text": [
      "Connecting to hello world server…\n"
     ]
    },
    {
     "data": {
      "text/plain": [
       "<contextlib._GeneratorContextManager at 0xb2ea8170>"
      ]
     },
     "execution_count": 1,
     "metadata": {},
     "output_type": "execute_result"
    }
   ],
   "source": [
    "import zmq\n",
    "import subprocess\n",
    "\n",
    "context = zmq.Context()\n",
    "\n",
    "#  Socket to talk to server\n",
    "print(\"Connecting to hello world server…\")\n",
    "socket_neopixel = context.socket(zmq.REQ)\n",
    "socket_sound = context.socket(zmq.REQ)\n",
    "socket_neopixel.connect(\"tcp://localhost:5555\")\n",
    "socket_sound.connect(\"tcp://localhost:5556\")"
   ]
  },
  {
   "cell_type": "code",
   "execution_count": null,
   "id": "8e8fd957-c629-4171-8e37-584664fefc1f",
   "metadata": {},
   "outputs": [],
   "source": []
  },
  {
   "cell_type": "code",
   "execution_count": 6,
   "id": "36dc1a1c-01ce-483b-80b2-abea3f3954b6",
   "metadata": {},
   "outputs": [],
   "source": [
    "#  Do 10 requests, waiting each time for a response\n",
    "socket_neopixel.send(b\"rip\")\n",
    "message = socket_neopixel.recv()"
   ]
  },
  {
   "cell_type": "code",
   "execution_count": 7,
   "id": "2d23cd09-9154-4ccc-b355-68ca4363c32d",
   "metadata": {},
   "outputs": [
    {
     "ename": "KeyboardInterrupt",
     "evalue": "",
     "output_type": "error",
     "traceback": [
      "\u001b[0;31m---------------------------------------------------------------------------\u001b[0m",
      "\u001b[0;31mKeyboardInterrupt\u001b[0m                         Traceback (most recent call last)",
      "\u001b[0;32m/tmp/ipykernel_2691/4123981394.py\u001b[0m in \u001b[0;36m<module>\u001b[0;34m\u001b[0m\n\u001b[1;32m      1\u001b[0m \u001b[0msocket_sound\u001b[0m\u001b[0;34m.\u001b[0m\u001b[0msend\u001b[0m\u001b[0;34m(\u001b[0m\u001b[0;34mb\"play\"\u001b[0m\u001b[0;34m)\u001b[0m\u001b[0;34m\u001b[0m\u001b[0;34m\u001b[0m\u001b[0m\n\u001b[0;32m----> 2\u001b[0;31m \u001b[0mmessage\u001b[0m \u001b[0;34m=\u001b[0m \u001b[0msocket_sound\u001b[0m\u001b[0;34m.\u001b[0m\u001b[0mrecv\u001b[0m\u001b[0;34m(\u001b[0m\u001b[0;34m)\u001b[0m\u001b[0;34m\u001b[0m\u001b[0;34m\u001b[0m\u001b[0m\n\u001b[0m",
      "\u001b[0;32mzmq/backend/cython/socket.pyx\u001b[0m in \u001b[0;36mzmq.backend.cython.socket.Socket.recv\u001b[0;34m()\u001b[0m\n",
      "\u001b[0;32mzmq/backend/cython/socket.pyx\u001b[0m in \u001b[0;36mzmq.backend.cython.socket.Socket.recv\u001b[0;34m()\u001b[0m\n",
      "\u001b[0;32mzmq/backend/cython/socket.pyx\u001b[0m in \u001b[0;36mzmq.backend.cython.socket._recv_copy\u001b[0;34m()\u001b[0m\n",
      "\u001b[0;32m~/venv/lib/python3.7/site-packages/zmq/backend/cython/checkrc.pxd\u001b[0m in \u001b[0;36mzmq.backend.cython.checkrc._check_rc\u001b[0;34m()\u001b[0m\n",
      "\u001b[0;31mKeyboardInterrupt\u001b[0m: "
     ]
    }
   ],
   "source": [
    "socket_sound.send(b\"play\")\n",
    "message = socket_sound.recv()"
   ]
  },
  {
   "cell_type": "code",
   "execution_count": null,
   "id": "26ce4bea-a22b-42ca-aa4a-0d8925dc8ad0",
   "metadata": {},
   "outputs": [],
   "source": []
  },
  {
   "cell_type": "code",
   "execution_count": null,
   "id": "1969f9ec-be74-4885-84af-1b9657fd7745",
   "metadata": {},
   "outputs": [],
   "source": []
  }
 ],
 "metadata": {
  "kernelspec": {
   "display_name": "Python 3 (ipykernel)",
   "language": "python",
   "name": "python3"
  },
  "language_info": {
   "codemirror_mode": {
    "name": "ipython",
    "version": 3
   },
   "file_extension": ".py",
   "mimetype": "text/x-python",
   "name": "python",
   "nbconvert_exporter": "python",
   "pygments_lexer": "ipython3",
   "version": "3.7.3"
  }
 },
 "nbformat": 4,
 "nbformat_minor": 5
}
